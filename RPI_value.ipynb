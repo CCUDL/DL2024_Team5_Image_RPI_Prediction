{
 "cells": [
  {
   "cell_type": "code",
   "execution_count": 18,
   "metadata": {
    "id": "2NK7RkRLS4w9"
   },
   "outputs": [],
   "source": [
    "#溶氧量點數\n",
    "def DO_value(num):\n",
    "  if (num >= 6.5):\n",
    "    return 1\n",
    "  elif(num >= 4.6):\n",
    "    return 3\n",
    "  elif(num >= 2.0):\n",
    "    return 6\n",
    "  else:\n",
    "    return 10\n",
    "\n",
    "#懸浮固體點數\n",
    "def TSS_value(num):\n",
    "  if (num <= 20.0):\n",
    "    return 1\n",
    "  elif(num <= 49.9):\n",
    "    return 3\n",
    "  elif(num <= 100):\n",
    "    return 6\n",
    "  else:\n",
    "    return 10\n",
    "\n",
    "#生化需氧量點數\n",
    "def BOD_value(num):\n",
    "  if (num <= 3.0):\n",
    "    return 1\n",
    "  elif(num <= 4.9):\n",
    "    return 3\n",
    "  elif(num <= 15.0):\n",
    "    return 6\n",
    "  else:\n",
    "    return 10\n",
    "\n",
    "#氨氣點數\n",
    "def NH3N_value(num):\n",
    "  if (num <= 0.5):\n",
    "    return 1\n",
    "  elif(num <= 0.99):\n",
    "    return 3\n",
    "  elif(num <= 3.0):\n",
    "    return 6\n",
    "  else:\n",
    "    return 10\n",
    "\n",
    "#計算RPI(River Pollution Index)\n",
    "def RPI(DO, TSS, BOD, NH3N):\n",
    "  DO_num = DO_value(DO)\n",
    "  TSS_num = TSS_value(TSS)\n",
    "  BOD_num = BOD_value(BOD)\n",
    "  NH3N_num = NH3N_value(NH3N)\n",
    "  return (DO_num + TSS_num + BOD_num + NH3N_num)/4"
   ]
  },
  {
   "cell_type": "code",
   "execution_count": 19,
   "metadata": {
    "colab": {
     "base_uri": "https://localhost:8080/"
    },
    "id": "QmdtCammVsAU",
    "outputId": "5a6182e1-0d58-4108-bd1a-1be6bd8dd119"
   },
   "outputs": [
    {
     "name": "stdout",
     "output_type": "stream",
     "text": [
      "APRIL: 3.25\n",
      "MAY: 3.25\n",
      "JUNE: 2.25\n",
      "JULY: 4.25\n",
      "AUGUST: 5.5\n",
      "SEPTEMBER: 4.5\n"
     ]
    }
   ],
   "source": [
    "APRIL = RPI(9.0 ,15, 0 ,3.0*1.3)\n",
    "MAY = RPI(8.4, 10, 0, 3.6*2.5)\n",
    "JUNE = RPI(8.5, 16, 0, 2*1.0)\n",
    "JULY = RPI(6.4, 24, 0, 2.3*2.6)\n",
    "AUGUST = RPI(8.1, 143, 0, 2.6*1.2)\n",
    "SEPTEMBER = RPI(7.7, 53, 0, 2.4*1.5)\n",
    "\n",
    "print(\"APRIL:\", APRIL)\n",
    "print(\"MAY:\", MAY)\n",
    "print(\"JUNE:\", JUNE)\n",
    "print(\"JULY:\", JULY)\n",
    "print(\"AUGUST:\", AUGUST)\n",
    "print(\"SEPTEMBER:\", SEPTEMBER)"
   ]
  }
 ],
 "metadata": {
  "colab": {
   "provenance": []
  },
  "kernelspec": {
   "display_name": "Python 3 (ipykernel)",
   "language": "python",
   "name": "python3"
  },
  "language_info": {
   "codemirror_mode": {
    "name": "ipython",
    "version": 3
   },
   "file_extension": ".py",
   "mimetype": "text/x-python",
   "name": "python",
   "nbconvert_exporter": "python",
   "pygments_lexer": "ipython3",
   "version": "3.9.18"
  }
 },
 "nbformat": 4,
 "nbformat_minor": 4
}
