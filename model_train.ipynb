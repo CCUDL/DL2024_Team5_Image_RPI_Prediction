{
 "cells": [
  {
   "cell_type": "code",
   "execution_count": 1,
   "id": "df29fa17-5a32-4bab-8bf7-310d66c57909",
   "metadata": {},
   "outputs": [],
   "source": [
    "import tensorflow as tf\n",
    "import tensorflow.keras as keras\n",
    "from tensorflow.keras import Sequential, layers, Input\n",
    "from tensorflow.keras.layers import Dense, BatchNormalization, Dropout, LSTM\n",
    "from tensorflow.keras.optimizers import Adam\n",
    "from tensorflow.keras.callbacks import LearningRateScheduler\n",
    "import tensorflow.keras.backend as K\n",
    "import os\n",
    "import numpy as np\n",
    "import pandas as pd\n",
    "import random\n",
    "import matplotlib.pyplot as plt\n",
    "from tensorflow.keras.initializers import Constant\n",
    "from tensorflow.keras.initializers import RandomNormal, HeNormal, GlorotNormal\n",
    "import cv2\n",
    "from sklearn.model_selection import KFold\n",
    "\n",
    "from sklearn.model_selection import train_test_split"
   ]
  },
  {
   "cell_type": "code",
   "execution_count": 2,
   "id": "bbe2437e-a4af-4318-96b0-dddba084cde6",
   "metadata": {},
   "outputs": [],
   "source": [
    "# RPI = (DO + SS + BOD + NH3N) / 4\n",
    "# NH3-N / NO3-N = K  -->  NH3-N = NO3-N * K"
   ]
  },
  {
   "cell_type": "code",
   "execution_count": 3,
   "id": "68bc81a9-8139-4a24-9dac-3aa6b5f37255",
   "metadata": {},
   "outputs": [],
   "source": [
    "def cal_RPI(DO, SS, BOD, NH3N):\n",
    "    return (DO + SS + BOD + NH3N) / 4"
   ]
  },
  {
   "cell_type": "code",
   "execution_count": 4,
   "id": "ea27c056-bc25-4afa-97f4-a1553827c33c",
   "metadata": {},
   "outputs": [],
   "source": [
    "APRIL_RPI = cal_RPI(1, 1, 1, 10)\n",
    "MAY_RPI = cal_RPI(1, 1, 1, 10)\n",
    "JUNE_RPI = cal_RPI(1, 1, 1, 10)\n",
    "JULY_RPI = cal_RPI(3, 2, 1, 10)\n",
    "AUGUST_RPI = cal_RPI(1, 10, 1, 10)\n",
    "SEPTEMBER_RPI = cal_RPI(1, 6, 1, 10)\n",
    "OCTOBER_PRI = cal_RPI(7.8, )"
   ]
  },
  {
   "cell_type": "code",
   "execution_count": 5,
   "id": "031f260f-5929-4d6b-8e6e-adcd3699c6fa",
   "metadata": {},
   "outputs": [],
   "source": [
    "folder_paths = ['./水質檢測/Image_data/1_April', \n",
    "                './水質檢測/Image_data/2_May',\n",
    "                './水質檢測/Image_data/3_June',\n",
    "                './水質檢測/Image_data/4_July',\n",
    "                './水質檢測/Image_data/5_August',\n",
    "                './水質檢測/Image_data/6_September']\n",
    "labels = [APRIL_RPI, MAY_RPI, JUNE_RPI, JULY_RPI, AUGUST_RPI, SEPTEMBER_RPI]  # 对应文件夹1和文件夹2的标签"
   ]
  },
  {
   "cell_type": "code",
   "execution_count": 6,
   "id": "30aeb04e-2848-48be-8cf8-d089dd47956b",
   "metadata": {},
   "outputs": [
    {
     "name": "stdout",
     "output_type": "stream",
     "text": [
      "April RPI: 3.25\n",
      "May RPI: 3.25\n",
      "June RPI: 3.25\n",
      "July RPI: 4.0\n",
      "August RPI: 5.5\n",
      "September RPI: 4.5\n",
      "[3.25, 3.25, 3.25, 4.0, 5.5, 4.5]\n"
     ]
    }
   ],
   "source": [
    "# Printing the calculated values\n",
    "print(\"April RPI:\", APRIL_RPI)\n",
    "print(\"May RPI:\", MAY_RPI)\n",
    "print(\"June RPI:\", JUNE_RPI)\n",
    "print(\"July RPI:\", JULY_RPI)\n",
    "print(\"August RPI:\", AUGUST_RPI)\n",
    "print(\"September RPI:\", SEPTEMBER_RPI)\n",
    "print(labels)"
   ]
  },
  {
   "cell_type": "code",
   "execution_count": 7,
   "id": "ec9176cd-5f1f-4166-b95a-c11a3117baec",
   "metadata": {},
   "outputs": [],
   "source": [
    "# Since we have 2 value equal to 6.975.\n",
    "# We should use 5 label to classify!"
   ]
  },
  {
   "cell_type": "code",
   "execution_count": 7,
   "id": "09e666a5-c933-4693-917e-ae6851d0ab52",
   "metadata": {},
   "outputs": [],
   "source": [
    "import tensorflow as tf\n",
    "import os\n",
    "\n",
    "def load_and_label_images(folder_path, label):\n",
    "    image_paths = []  # 存储图像文件的路径\n",
    "    labels = []       # 存储图像对应的标签\n",
    "\n",
    "    # 获取文件夹中的所有图像文件的路径\n",
    "    for filename in os.listdir(folder_path):\n",
    "        if filename.endswith('.jpg') or filename.endswith('.png'):  # 假设只加载jpg和png格式的图像文件\n",
    "            image_paths.append(os.path.join(folder_path, filename))\n",
    "            labels.append(label)\n",
    "\n",
    "    # 加载图像并为其指定标签\n",
    "    images = [tf.io.read_file(image_path) for image_path in image_paths]\n",
    "    images = [tf.image.decode_image(image, channels=3) for image in images]\n",
    "\n",
    "    # 可选的数据预处理：这里假设对图像进行归一化\n",
    "    #images = [tf.cast(image, tf.float32) / 255.0 for image in images]\n",
    "\n",
    "    return images, labels"
   ]
  },
  {
   "cell_type": "code",
   "execution_count": 8,
   "id": "9c1275d6-df3d-4313-bc65-ea41b554f30b",
   "metadata": {},
   "outputs": [
    {
     "name": "stdout",
     "output_type": "stream",
     "text": [
      "[3.25, 3.25, 3.25, 4.0, 5.5, 4.5]\n"
     ]
    }
   ],
   "source": [
    "# 你可以根据需要加载多个文件夹中的图像并为其指定不同的标签\n",
    "# folder_paths = ['/path/to/folder1', '/path/to/folder2']\n",
    "# labels = [1, 2]  # 对应文件夹1和文件夹2的标签\n",
    "\n",
    "# 加载所有文件夹中的图像和标签\n",
    "all_images = []\n",
    "all_labels = []\n",
    "print(labels)\n",
    "for folder_path, label in zip(folder_paths, labels):\n",
    "    images, labels = load_and_label_images(folder_path, label)\n",
    "    all_images.extend(images)\n",
    "    all_labels.extend(labels)\n",
    "\n",
    "\n",
    "\n"
   ]
  },
  {
   "cell_type": "code",
   "execution_count": 9,
   "id": "afb56706-c873-4e3e-af24-a6db9109ea4e",
   "metadata": {},
   "outputs": [
    {
     "name": "stdout",
     "output_type": "stream",
     "text": [
      "4\n"
     ]
    }
   ],
   "source": [
    "unique_labels_list = list(set(all_labels))\n",
    "unique_labels_list.sort()\n",
    "print(len(unique_labels_list))\n",
    "label_to_index = {label: index for index, label in enumerate(unique_labels_list)}\n",
    "label_one_hot = [tf.one_hot(label_to_index[label], len(unique_labels_list)) for label in all_labels]\n",
    "\n",
    "\n"
   ]
  },
  {
   "cell_type": "code",
   "execution_count": 10,
   "id": "f916f3f2-2c54-44fb-ab38-686d39e25d5a",
   "metadata": {},
   "outputs": [
    {
     "name": "stdout",
     "output_type": "stream",
     "text": [
      "9728\n",
      "(224, 224, 3)\n",
      "9728\n",
      "[<tf.Tensor: shape=(4,), dtype=float32, numpy=array([1., 0., 0., 0.], dtype=float32)>, <tf.Tensor: shape=(4,), dtype=float32, numpy=array([1., 0., 0., 0.], dtype=float32)>, <tf.Tensor: shape=(4,), dtype=float32, numpy=array([1., 0., 0., 0.], dtype=float32)>, <tf.Tensor: shape=(4,), dtype=float32, numpy=array([1., 0., 0., 0.], dtype=float32)>, <tf.Tensor: shape=(4,), dtype=float32, numpy=array([1., 0., 0., 0.], dtype=float32)>, <tf.Tensor: shape=(4,), dtype=float32, numpy=array([1., 0., 0., 0.], dtype=float32)>, <tf.Tensor: shape=(4,), dtype=float32, numpy=array([1., 0., 0., 0.], dtype=float32)>, <tf.Tensor: shape=(4,), dtype=float32, numpy=array([1., 0., 0., 0.], dtype=float32)>, <tf.Tensor: shape=(4,), dtype=float32, numpy=array([1., 0., 0., 0.], dtype=float32)>, <tf.Tensor: shape=(4,), dtype=float32, numpy=array([1., 0., 0., 0.], dtype=float32)>]\n"
     ]
    }
   ],
   "source": [
    "print(len(all_images))\n",
    "print(all_images[0].shape)\n",
    "\n",
    "print(len(label_one_hot))\n",
    "print(label_one_hot[0:10])"
   ]
  },
  {
   "cell_type": "code",
   "execution_count": 18,
   "id": "8c62937c-f7ff-4f53-aa11-fe829587d15b",
   "metadata": {},
   "outputs": [],
   "source": [
    "\n",
    "train_images, validation_images, train_labels, validation_labels = train_test_split(all_images, label_one_hot, test_size=0.2, random_state=42)\n",
    "# 创建训练集数据集\n",
    "train_dataset = tf.data.Dataset.from_tensor_slices((train_images, train_labels))\n",
    "train_dataset = train_dataset.shuffle(buffer_size=len(train_images)).batch(batch_size=32)\n",
    "\n",
    "# 创建验证集数据集\n",
    "validation_dataset = tf.data.Dataset.from_tensor_slices((validation_images, validation_labels))\n",
    "validation_dataset = validation_dataset.batch(batch_size=32)"
   ]
  },
  {
   "cell_type": "code",
   "execution_count": 33,
   "id": "a64943b7-3d2b-4b80-b0cc-e4e0db1f458e",
   "metadata": {},
   "outputs": [],
   "source": [
    "# # 构建数据集\n",
    "# dataset = tf.data.Dataset.from_tensor_slices((all_images, label_one_hot))\n",
    "\n",
    "# # 可选的打乱和分批处理\n",
    "# dataset = dataset.shuffle(buffer_size=len(all_images)).batch(batch_size=32)"
   ]
  },
  {
   "cell_type": "code",
   "execution_count": 1,
   "id": "ee37a14c-20d5-4284-a915-218a5556fdd0",
   "metadata": {},
   "outputs": [],
   "source": [
    "# import matplotlib.pyplot as plt\n",
    "\n",
    "# # 从数据集中获取并显示图像\n",
    "# fig, axs = plt.subplots(2, 5, figsize=(20, 8))  # 创建一个2x5的子图布局\n",
    "\n",
    "# for i, (image, label) in enumerate(dataset.take(10)):  # 取出前十张图像\n",
    "#     row = i // 5  # 计算当前图像应该位于的行索引\n",
    "#     col = i % 5   # 计算当前图像应该位于的列索引\n",
    "    \n",
    "#     axs[row, col].imshow(image[0])  # 假设每个batch里只有一张图像\n",
    "#     axs[row, col].set_title('Label: {}'.format(label[0].numpy()))\n",
    "#     axs[row, col].axis('off')  # 关闭坐标轴\n",
    "\n",
    "# plt.show()"
   ]
  },
  {
   "cell_type": "code",
   "execution_count": 55,
   "id": "d11fadea-067a-41f5-93f3-e1dd204bbf40",
   "metadata": {},
   "outputs": [],
   "source": [
    "import tensorflow as tf\n",
    "\n",
    "# 定义一个简单的卷积神经网络模型\n",
    "def create_model():\n",
    "    model = tf.keras.Sequential([\n",
    "    tf.keras.layers.Conv2D(32, (3, 3), activation='relu', input_shape=(224, 224, 3)),\n",
    "    tf.keras.layers.MaxPooling2D((2, 2)),\n",
    "    tf.keras.layers.Dropout(0.25),  # 添加 Dropout 層，丟棄 25% 的神經元\n",
    "    tf.keras.layers.Conv2D(64, (3, 3), activation='relu'),\n",
    "    tf.keras.layers.MaxPooling2D((2, 2)),\n",
    "    tf.keras.layers.Dropout(0.25),  # 添加 Dropout 層，丟棄 25% 的神經元\n",
    "    tf.keras.layers.Conv2D(64, (3, 3), activation='relu'),\n",
    "    tf.keras.layers.Flatten(),\n",
    "    tf.keras.layers.Dense(64, activation='relu'),\n",
    "    tf.keras.layers.Dropout(0.5),   # 添加 Dropout 層，丟棄 50% 的神經元\n",
    "    tf.keras.layers.Dense(4, activation='softmax')\n",
    "])\n",
    "    return model"
   ]
  },
  {
   "cell_type": "code",
   "execution_count": 56,
   "id": "318dd38c-5f37-4242-992d-057dacd8da05",
   "metadata": {},
   "outputs": [],
   "source": [
    "model = create_model()\n",
    "\n",
    "optimizer = tf.keras.optimizers.Adam(learning_rate=0.0001)\n",
    "model.compile(optimizer=optimizer,\n",
    "              loss=tf.keras.losses.categorical_crossentropy,\n",
    "              metrics=['accuracy'])"
   ]
  },
  {
   "cell_type": "code",
   "execution_count": 57,
   "id": "bb945a98-1fc8-4c0e-bc09-5fa2171e459d",
   "metadata": {},
   "outputs": [
    {
     "name": "stdout",
     "output_type": "stream",
     "text": [
      "Epoch 1/20\n",
      "244/244 [==============================] - 10s 37ms/step - loss: 9.1864 - accuracy: 0.4956 - val_loss: 1.4810 - val_accuracy: 0.3094\n",
      "Epoch 2/20\n",
      "244/244 [==============================] - 9s 37ms/step - loss: 0.7934 - accuracy: 0.6868 - val_loss: 3.2110 - val_accuracy: 0.3356\n",
      "Epoch 3/20\n",
      "244/244 [==============================] - 9s 38ms/step - loss: 0.5064 - accuracy: 0.8094 - val_loss: 1.9496 - val_accuracy: 0.4255\n",
      "Epoch 4/20\n",
      "244/244 [==============================] - 10s 41ms/step - loss: 0.3084 - accuracy: 0.8883 - val_loss: 1.4475 - val_accuracy: 0.5360\n",
      "Epoch 5/20\n",
      "244/244 [==============================] - 10s 42ms/step - loss: 0.1826 - accuracy: 0.9354 - val_loss: 0.6800 - val_accuracy: 0.7914\n",
      "Epoch 6/20\n",
      "244/244 [==============================] - 10s 40ms/step - loss: 0.1141 - accuracy: 0.9616 - val_loss: 0.9141 - val_accuracy: 0.7816\n",
      "Epoch 7/20\n",
      "244/244 [==============================] - 9s 38ms/step - loss: 0.0787 - accuracy: 0.9747 - val_loss: 0.4847 - val_accuracy: 0.8834\n",
      "Epoch 8/20\n",
      "244/244 [==============================] - 9s 38ms/step - loss: 0.0808 - accuracy: 0.9774 - val_loss: 0.3166 - val_accuracy: 0.8941\n",
      "Epoch 9/20\n",
      "244/244 [==============================] - 9s 38ms/step - loss: 0.0313 - accuracy: 0.9902 - val_loss: 0.1475 - val_accuracy: 0.9435\n",
      "Epoch 10/20\n",
      "244/244 [==============================] - 9s 38ms/step - loss: 0.0228 - accuracy: 0.9931 - val_loss: 0.2472 - val_accuracy: 0.9137\n",
      "Epoch 11/20\n",
      "244/244 [==============================] - 10s 39ms/step - loss: 0.0224 - accuracy: 0.9942 - val_loss: 0.0669 - val_accuracy: 0.9764\n",
      "Epoch 12/20\n",
      "244/244 [==============================] - 9s 38ms/step - loss: 0.0288 - accuracy: 0.9927 - val_loss: 0.0946 - val_accuracy: 0.9522\n",
      "Epoch 13/20\n",
      "244/244 [==============================] - 9s 37ms/step - loss: 0.0082 - accuracy: 0.9979 - val_loss: 0.0451 - val_accuracy: 0.9902\n",
      "Epoch 14/20\n",
      "244/244 [==============================] - 9s 38ms/step - loss: 0.0144 - accuracy: 0.9959 - val_loss: 0.0100 - val_accuracy: 0.9990\n",
      "Epoch 15/20\n",
      "244/244 [==============================] - 9s 39ms/step - loss: 0.0147 - accuracy: 0.9965 - val_loss: 0.0648 - val_accuracy: 0.9964\n",
      "Epoch 16/20\n",
      "244/244 [==============================] - 9s 37ms/step - loss: 0.0058 - accuracy: 0.9982 - val_loss: 0.0379 - val_accuracy: 0.9969\n",
      "Epoch 17/20\n",
      "244/244 [==============================] - 9s 37ms/step - loss: 0.0043 - accuracy: 0.9985 - val_loss: 0.0334 - val_accuracy: 0.9964\n",
      "Epoch 18/20\n",
      "244/244 [==============================] - 9s 39ms/step - loss: 0.0040 - accuracy: 0.9986 - val_loss: 0.0282 - val_accuracy: 0.9974\n",
      "Epoch 19/20\n",
      "244/244 [==============================] - 10s 39ms/step - loss: 0.0017 - accuracy: 0.9997 - val_loss: 0.0272 - val_accuracy: 0.9974\n",
      "Epoch 20/20\n",
      "244/244 [==============================] - 9s 38ms/step - loss: 0.0031 - accuracy: 0.9992 - val_loss: 0.0418 - val_accuracy: 0.9974\n"
     ]
    }
   ],
   "source": [
    "# 這裡建議把epoch設小一點\n",
    "# 我跑的時候差不多一個epoch要5~7分鐘\n",
    "\n",
    "result = model.fit(train_dataset, validation_data=validation_dataset, epochs=20,verbose=1)\n",
    "\n"
   ]
  },
  {
   "cell_type": "code",
   "execution_count": 58,
   "id": "06465f2b-9774-4fc1-8257-070ecebde2b4",
   "metadata": {},
   "outputs": [
    {
     "data": {
      "image/png": "[encoded data removed]",
      "text/plain": [
       "<Figure size 640x480 with 1 Axes>"
      ]
     },
     "metadata": {},
     "output_type": "display_data"
    }
   ],
   "source": [
    "plt.plot(result.history['accuracy'], label='accuracy')\n",
    "plt.plot(result.history['val_accuracy'], label = 'val_accuracy')\n",
    "plt.xlabel('Epoch')\n",
    "plt.ylabel('Accuracy')\n",
    "plt.ylim([0, 1])\n",
    "plt.legend(loc='lower right')\n",
    "plt.show()\n"
   ]
  },
  {
   "cell_type": "code",
   "execution_count": 59,
   "id": "0b81bd23-cd48-45a9-bdaf-a632cb19c23c",
   "metadata": {},
   "outputs": [],
   "source": [
    "model.save(\"model.h5\")"
   ]
  },
  {
   "cell_type": "code",
   "execution_count": null,
   "id": "c6c6aa3f-295a-4ba5-a917-3bfdaffbbc52",
   "metadata": {},
   "outputs": [],
   "source": []
  }
 ],
 "metadata": {
  "kernelspec": {
   "display_name": "Python 3 (ipykernel)",
   "language": "python",
   "name": "python3"
  },
  "language_info": {
   "codemirror_mode": {
    "name": "ipython",
    "version": 3
   },
   "file_extension": ".py",
   "mimetype": "text/x-python",
   "name": "python",
   "nbconvert_exporter": "python",
   "pygments_lexer": "ipython3",
   "version": "3.9.18"
  }
 },
 "nbformat": 4,
 "nbformat_minor": 5
}
